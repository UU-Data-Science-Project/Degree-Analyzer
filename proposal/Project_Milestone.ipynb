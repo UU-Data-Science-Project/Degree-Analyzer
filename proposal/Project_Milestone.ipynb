{
 "cells": [
  {
   "cell_type": "markdown",
   "id": "9eab0096",
   "metadata": {},
   "source": [
    "# Project Milestone\n",
    "\n",
    "Project Title: When is College Worth it: An In-depth Data Analysis of Post University Wages. \n",
    "\n",
    "Group members: \\\n",
    "Zhenzhao Tu (UID u1315097)\\\n",
    "Fernando Turcios (UID U0935172) \\\n",
    "Lincoln Sand (UID u1358804)\n",
    "\n",
    "\n",
    "Emails: tuzhenzhao@gmail.com, Fernandoturcios222@gmail.com and sandlincoln@gmail.com"
   ]
  },
  {
   "cell_type": "markdown",
   "id": "33f99545",
   "metadata": {},
   "source": [
    "## Project description\n",
    "\n",
    "\n",
    "The main objective of the project is to determine the most optimal way to go to college. The data provided is from 1.2 million people with only a bachelor's degree. There are three major sections to the website, Salary Increase by Major, Salaries By Region, and Salary Increase By Type of College. We want to look at these three variables (Major, Region, and College Type) and see if they play a major role in predicting a students post university wage. The data provided breaks down the distirubiton of salaries for various majors, schools, and regions into various variables. The next step is to do some exploratory analysis to understand our data and determine our essential variables. For the exploratory analysis methods, we plan on using some basic descriptive statistics for each variable on its own (mean, median, stdev...) and also plotting (to determine the overall distribution of the sampled variable). Next, we can test the relationship between variables (multiple variables also) with linear regression and scatter plots. We will need to figure out a way to determine how to handle the categorical variables (group undecided on how to proceed). After that, we wish to apply some more intensive analysis methods learned in class (which will be determined after the exploratory analysis).\n",
    "\n"
   ]
  },
  {
   "cell_type": "markdown",
   "id": "c43bfbcf",
   "metadata": {},
   "source": [
    "## Data Description\n",
    "\n",
    "The data we will be using is provided by The Wall Street Journal on their website: http://online.wsj.com/public/resources/documents/info-Degrees_that_Pay_you_Back-sort.html.\n",
    "The data is from a year-long survey of 1.2 million people with only bachelor's degrees. The survey breaks the data down into 3 major sections. The first section is Salaries for colleges by type. This section consists of a 269 rows (different schools) and 7 variables (1 school type and 6 salary variables). The next section Salaries for colleges by region is similar to the previous section with 320 rows and 7 variables (1 region variable and 6 salary variables). The third section is Degrees that pay you back, it contains 50 rows for different majors and 7 variables (6 about salary and 1 about growth). These three sections are the csv files attached. They were required to be scraped from the website by downloading the html site and we were able to scrape it from the saved data. The Wall street journal had not little to no info on their rules for scraping. The scrapping was tedious with the first page, but once it was all sorted out, the overall code was able to be copied and pasted for the other two sections with minor changes. The code overall is pretty much clean but there are a few missing values for each of the columns on some of the sections (primarily 2 of the sections the 3rd section has no missing values). For these missing values (quite a few for one of the variables) we wish to apply a bootstrapping method to fill in the missing values instead of leaving them out or replacing those values with 0.\n",
    "\n",
    "\n",
    "\n",
    "\n"
   ]
  },
  {
   "cell_type": "markdown",
   "id": "17506e71",
   "metadata": {},
   "source": [
    "## Ethical Data Concerns (EDA) \n",
    "\n",
    "There are a few things to consider about the data we are using. The biggest concern is that there is little detail on how the data was collected. We are relying on the reputation of The New York Times. We dont know if the data was collected using appropriate methods (Simple Random Sample, the wording of survey....). Without any details on how the survey was conducted we can not be sure that our data came from a proccess of good scientific standadrd. Another concern is how we handle our categorical data. For example the section that contains the college type can contain 1 of 5 diffrent opetions (Califonia, Western, Midestern, Southern, Northeastern). To try and analize this we might convert those options into a number system to do proper anaylsis. When finalizing our results, we must be aware that they rely on the strength of the survey conducted and the reputation of The New York Times and trust that the overall process was done with high scientific standards. "
   ]
  },
  {
   "cell_type": "markdown",
   "id": "33247b86",
   "metadata": {},
   "source": [
    " ## Methods\n",
    " \n",
    " Our first ideas are very easy but we will come up with more methods to analysis those data.\n",
    "\n",
    "1. scatterplots of the various variables\n",
    "2. linear regression to test the relationship between some variables \n",
    "3. using mult visualizations ways to observe the correlation between different elements"
   ]
  },
  {
   "cell_type": "markdown",
   "id": "adc217b4",
   "metadata": {},
   "source": [
    "##  Preliminary results\n",
    "\n",
    "After collecting the data there are a few things that were noticeable. One is that our some of our response variables are categorical variables. We must figure out a way to pivot to do apply some analysis methods. Once alternate is taking the starting pay as a replacement for our categorical variable and compare that to the median (and other salary variables). That might be the best way to procceed if we want to apply some of the methods we used in class. \n",
    "\n",
    "\n"
   ]
  },
  {
   "cell_type": "markdown",
   "id": "b2322fce",
   "metadata": {},
   "source": [
    "## Peer feedback\n",
    "\n",
    "Feedback from team 5:\n",
    "\n",
    "1. When we doing research in difference between doc and master degree in salary, we can try to use linear regression and divided doc and master groups. \n",
    "\n",
    "2. We can add a new sub-section to discuss if salary relatied to majors. \n",
    "\n",
    "3. We can find different survey results: Salaries for collages by type, Salaries for colleges by region, degrees that pay you back. "
   ]
  },
  {
   "cell_type": "markdown",
   "id": "a2bd92f1",
   "metadata": {},
   "source": [
    "## Completed milestones\n",
    "\n",
    "1. Confrim our projects goal (needed to be adjusted due to the lack of data provided) \n",
    "\n",
    "2. Scrape the data from the site \n",
    "\n",
    "3. Assign group roles. \n",
    "\n",
    "\n"
   ]
  },
  {
   "cell_type": "markdown",
   "id": "3dc2021a",
   "metadata": {},
   "source": [
    " ## Upcoming milestones\n",
    " \n",
    " 1. Exploratory analysis \n",
    " \n",
    " 2. Define explanatory and response variables\n",
    " \n",
    " 3. Setup possible classification system?\n",
    " \n",
    " "
   ]
  },
  {
   "cell_type": "markdown",
   "id": "e883b0df",
   "metadata": {},
   "source": [
    "## Potential modification to the project, justification, and updated milestones (optional, 1/2 page)\n",
    "\n",
    "We have slightly changed our project. Initially we wanted to see what was the most optimal way to get a degree while considering the debt some students acquire. The original data we were working with was from the department of eduction but when we began to look through the data there were more empty values than actual values and most of the variables were not clear in what they represented. We have than switched to a diffrent dataset that has values that are clear and manageable. We also had to adjust our goal slightly, we will be looking for the most optimal way to get a degree excluding the debt part of the question. The rest of the project is still the same just with an adjusted question and dataset. \n",
    "\n"
   ]
  },
  {
   "cell_type": "markdown",
   "id": "22d6c4d2",
   "metadata": {},
   "source": [
    "# Summary:\n",
    "\n",
    "We adjusted our project slightly with a new data set and our goal is to find the college path that provides the best financial return (short term and long term). \n",
    "\n",
    "We used data posted on The Wall Street Journal's website form 1.2 million people. The data included entry level salary, mid career salary, and the 25,75, 90 percentile mid-career salary sorted out by major, region, and college. \n",
    "\n",
    "Our next step is the exploratory analysis, were we get the basic distirbution of the variables (on their own) and then begin to check for correlation between variables and figure out how to handle our categorical variables. \n",
    "\n",
    "Once we finish our exploratory analysis we will be able to narrow in on the important variables. \n",
    "\n"
   ]
  },
  {
   "cell_type": "markdown",
   "id": "8f93f811",
   "metadata": {},
   "source": [
    "#  Assessment: Is your project on track? (Y/N):\n",
    "\n",
    "We are currently behind a step. Since we had to change our dataset we fell behind but we should be able to catch up and complete the exploratory analysis soon, which will determine the next steps of our project. "
   ]
  },
  {
   "cell_type": "code",
   "execution_count": null,
   "id": "9eaa410b",
   "metadata": {},
   "outputs": [],
   "source": []
  }
 ],
 "metadata": {
  "kernelspec": {
   "display_name": "Python 3 (ipykernel)",
   "language": "python",
   "name": "python3"
  },
  "language_info": {
   "codemirror_mode": {
    "name": "ipython",
    "version": 3
   },
   "file_extension": ".py",
   "mimetype": "text/x-python",
   "name": "python",
   "nbconvert_exporter": "python",
   "pygments_lexer": "ipython3",
   "version": "3.9.7"
  }
 },
 "nbformat": 4,
 "nbformat_minor": 5
}
