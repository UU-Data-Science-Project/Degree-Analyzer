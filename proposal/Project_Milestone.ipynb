{
 "cells": [
  {
   "cell_type": "markdown",
   "id": "9eab0096",
   "metadata": {},
   "source": [
    "# Project Milestone\n",
    "\n",
    "Project Title: When is College Worth it: An In-depth Data Analysis of Post University Wages and Debt. \n",
    "\n",
    "Group members: \\\n",
    "Zhenzhao Tu (UID u1315097)\\\n",
    "Fernando Turcios (UID U0935172) \\\n",
    "Lincoln Sand (UID u1358804)\n",
    "\n",
    "\n",
    "Emails: tuzhenzhao@gmail.com, Fernandoturcios222@gmail.com and sandlincoln@gmail.com"
   ]
  },
  {
   "cell_type": "markdown",
   "id": "33f99545",
   "metadata": {},
   "source": [
    "## Project description\n",
    "\n",
    "We all have heard that getting a degree provides more opportunity, a better quality of life, and a higher salary, but we also have heard how crushing student debt can be. Some students can spend their whole lives under student debt. Student debt can be a lifetime companion, and for some, it has forced many to delay their lives after university. On the flip side, getting a degree can provide freedom (financially and mentally), and a degree does lead to a higher income on average when compared to those without degrees. It appears that there are two different paths that many students might be on, and they might not be aware of it.\n",
    "\n",
    "We want to explore this and see if we can identy what is the most optimal path to get a degree. When we say optimal we mean best income to debt ratio. We want to find (if any) variables that might lead to a better ratio. We are interested in this subject because many students attend college each year (20 million enrolled to a university in 2019, according to statista.com). We want to provide some insight and the best possible situation post-university.\n",
    "\n",
    "There is a main question we wish to answer is: Is there a way to pick a major, school, state, ect.. that will provide the best income to debt ratio.\n",
    "To achieve this, we might have to answer some other questions.\n",
    "\n",
    "1) How to people with degrees fair against people without?\n",
    "\n",
    "2) Does the state where you get your degree matter?\n",
    "\n",
    "3) Do some majors/schools require a student to accumulate more debt?\n",
    "\n",
    "Answering these additional questions may allow us to answer our question more realistically—our primary goal is to be able to answer the main question under real-life circumstances.\n",
    "We hope to identify some variables that are good indicators of income to debt ratio as this analysis might help future students avoid the dangers of student debt."
   ]
  },
  {
   "cell_type": "markdown",
   "id": "c43bfbcf",
   "metadata": {},
   "source": [
    "## Data\n",
    "\n",
    "We plan to primarily use the data provided by the U.S Department of Education College Scorecard. (link:https://collegescorecard.ed.gov/data/)\n",
    "The data provided by the College Scorecard is vast and large. There is no need to scrape or collect the data provided by the department of education in .csv format. There is some initial cleaning to do, understanding what each data point represents an empty/error values in our data.\n",
    "\n",
    "\n",
    "To answer our main question thoroughly, we need to include more data than originally thought. The Scorecard data provided by the U.S department of education does provide us with many different variables to analyze. Still, it does not provide us with the income of post-college students, the amount of total debt paid off (if it ever paid off), and it does not include the income of non-degree holders (for comparisons). The next step is to find the complementary dataset to helo us answer our main questio.\n",
    "\n"
   ]
  },
  {
   "cell_type": "markdown",
   "id": "17506e71",
   "metadata": {},
   "source": [
    "## Ethics\n",
    "\n",
    "Initially. we did not devote much time to this section. Our motivations to do this protect were ormanlv to helo students avoid the crushina debt that mav come\n",
    "with some students obtainina a dearee. One thing we need to consider is now students miaht feel about usina their data. At the moment. we do not have\n",
    "nersonal details (age. sex. etc..). If we do happen to need to include some of that \"personal intormation.\" we feel that there is no harm in using it as it is solely\n",
    "for the purpose of helping future students find an optimal path financially."
   ]
  },
  {
   "cell_type": "markdown",
   "id": "33247b86",
   "metadata": {},
   "source": [
    " ## Methods\n",
    " \n",
    " Our first ideas are very easy but we will come up with more methods to analysis those data.\n",
    "\n",
    "1. scatterplots of the various variables\n",
    "2. linear regression to test the relationship between some variables \n",
    "3. using mult visualizations ways to observe the correlation between different elements"
   ]
  },
  {
   "cell_type": "markdown",
   "id": "adc217b4",
   "metadata": {},
   "source": [
    "##  Preliminary results\n",
    "\n",
    "Answer these questions:\n",
    "\n",
    "1. Starting in high school, is there a positive correlation between education and salary growth？\n",
    "\n",
    "2. Do undergraduates have more pressure to take out loans than graduate students?\n",
    "\n",
    "3. What is the difference in salary for different majors after graduation? Which majors have higher average salaries?\n",
    "\n"
   ]
  },
  {
   "cell_type": "markdown",
   "id": "b2322fce",
   "metadata": {},
   "source": [
    "## Peer feedback\n",
    "\n",
    "Feedback frome team 5:\n",
    "\n",
    "1. When we doing research in difference between doc and master degree in salary, we can try to use linear regression and divided doc and master groups. \n",
    "\n",
    "2. We can add a new sub-section to discuss if salary relatied to majors. \n",
    "\n",
    "3. We can find different survey results: Salaries for collages by type, Salaries for colleges by region, degrees that pay you back. "
   ]
  },
  {
   "cell_type": "markdown",
   "id": "a2bd92f1",
   "metadata": {},
   "source": [
    "## Completed milestones\n",
    "\n",
    "1. Prepared all data we need\n",
    "\n",
    "2. "
   ]
  },
  {
   "cell_type": "markdown",
   "id": "3dc2021a",
   "metadata": {},
   "source": [
    " ## Upcoming milestones\n",
    " \n",
    " 1. Using methods to analysis data\n",
    " \n",
    " 2. "
   ]
  },
  {
   "cell_type": "markdown",
   "id": "e883b0df",
   "metadata": {},
   "source": [
    "## Summary\n",
    "\n"
   ]
  },
  {
   "cell_type": "code",
   "execution_count": null,
   "id": "a5ecf9e5",
   "metadata": {},
   "outputs": [],
   "source": []
  }
 ],
 "metadata": {
  "kernelspec": {
   "display_name": "Python 3 (ipykernel)",
   "language": "python",
   "name": "python3"
  },
  "language_info": {
   "codemirror_mode": {
    "name": "ipython",
    "version": 3
   },
   "file_extension": ".py",
   "mimetype": "text/x-python",
   "name": "python",
   "nbconvert_exporter": "python",
   "pygments_lexer": "ipython3",
   "version": "3.9.7"
  }
 },
 "nbformat": 4,
 "nbformat_minor": 5
}
