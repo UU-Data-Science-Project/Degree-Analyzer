{
 "cells": [
  {
   "cell_type": "markdown",
   "id": "1fdf542b",
   "metadata": {},
   "source": [
    "# Project Proposal \n",
    "\n",
    "Project Title: When is College Worth it: An In-depth Data Analysis of Post University Wages and Debt. \n",
    "\n",
    "Group members: \\\n",
    "Zhenzhao Tu (UID u1315097)\\\n",
    "Fernando Turcios (UID U0935172) \\\n",
    "Lincoln Sand (UID u1358804)\n",
    "\n",
    "\n",
    "Emails: tuzhenzhao@gmail.com, Fernandoturcios222@gmail.com and sandlincoln@gmail.com\n"
   ]
  },
  {
   "cell_type": "markdown",
   "id": "98144b99",
   "metadata": {},
   "source": [
    "## Background and Motivation\n",
    "\n",
    "We all have heard that getting a degree provides more opportunity, a better quality of life, and a higher salary, but we also have heard how crushing student debt can be. Some students can spend their whole lives under student debt. Student debt can be a lifetime companion, and for some, it has forced many to delay their lives after university. On the flip side, getting a degree can provide freedom (financially and mentally), and a degree does lead to a higher income on average when compared to those without degrees. It appears that there are two different paths that many students might be on, and they might not be aware of it.\n",
    "\n",
    "We want to explore this and see if we can identy what is the most optimal path to get a degree. When we say optimal we mean best income to debt ratio. We want to find (if any) variables that might lead to a better ratio. We are interested in this subject because many students attend college each year (20 million enrolled to a university in 2019, according to statista.com). We want to provide some insight and the best possible situation post-university. \n",
    "\n"
   ]
  },
  {
   "cell_type": "markdown",
   "id": "4a165f64",
   "metadata": {},
   "source": [
    "## Project Objectives\n",
    "\n",
    "There is a main question we wish to answer is: Is there a way to pick a major, school, state, ect.. that will provide the best income to debt ratio. \n",
    "\n",
    "To achieve this, we might have to answer some other questions. \n",
    "1) How to people with degrees fair against people without? \n",
    "\n",
    "2) Does the state where you get your degree matter?\n",
    "\n",
    "3) Do some majors/schools require a student to accumulate more debt? \n",
    "\n",
    "Answering these additional questions may allow us to answer our question more realistically—our primary goal is to be able to answer the main question under real-life circumstances. \n",
    "\n",
    "We hope to identify some variables that are good indicators of income to debt ratio as this analysis might help future students avoid the dangers of student debt.  "
   ]
  },
  {
   "cell_type": "markdown",
   "id": "fd1a7a39",
   "metadata": {},
   "source": [
    "## Data\n",
    "\n",
    "We plan to primarily use the data provided by the U.S Department of Education College Scorecard. (link:https://collegescorecard.ed.gov/data/)\n",
    "The data provided by the College Scorecard is vast and large. There is no need to scrape or collect the data provided by the department of education in .csv format. There is some initial cleaning to do, understanding what each data point represents an empty/error values in our data.\n",
    "\n",
    "\n"
   ]
  },
  {
   "cell_type": "markdown",
   "id": "b24ba2e1",
   "metadata": {},
   "source": [
    "## Data Processing\n",
    "\n",
    "Our data are clean enough, but our dataset are too large it is not easy to use them all in jupyter notebook, so we will choose some of data that will help us complete the project. We plan to use data for analysising and interpreting some useful ideas for students whom are preparing for applying college. "
   ]
  },
  {
   "cell_type": "markdown",
   "id": "a0263352",
   "metadata": {},
   "source": [
    "## Exploratory Analysis\n",
    "\n",
    "Our first ideas are very easy but we will come up with more methods to analysis those data.\n",
    "\n",
    "1. scatterplots of the various variables\n",
    "2. linear regression to test the relationship between some variables \n",
    "3. using mult visualizations ways to observe the correlation between different elements\n"
   ]
  },
  {
   "cell_type": "markdown",
   "id": "960513c3",
   "metadata": {},
   "source": [
    "## Analysis Methodology\n",
    "\n",
    "We have not decided specifical method to analysis data, but we will find a method eventully."
   ]
  },
  {
   "cell_type": "markdown",
   "id": "beff2d2d",
   "metadata": {},
   "source": [
    "## Project Schedule\n",
    "\n",
    "1. Select target dataset due 3/22/2022\n",
    "2. Visualizations part due 3/29/2022\n",
    "3. Method is the last part, finish it before deadline of the project.\n"
   ]
  },
  {
   "cell_type": "code",
   "execution_count": null,
   "id": "f513e66e",
   "metadata": {},
   "outputs": [],
   "source": []
  }
 ],
 "metadata": {
  "kernelspec": {
   "display_name": "Python 3 (ipykernel)",
   "language": "python",
   "name": "python3"
  },
  "language_info": {
   "codemirror_mode": {
    "name": "ipython",
    "version": 3
   },
   "file_extension": ".py",
   "mimetype": "text/x-python",
   "name": "python",
   "nbconvert_exporter": "python",
   "pygments_lexer": "ipython3",
   "version": "3.9.7"
  }
 },
 "nbformat": 4,
 "nbformat_minor": 5
}
